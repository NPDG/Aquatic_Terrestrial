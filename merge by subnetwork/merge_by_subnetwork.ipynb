{
 "cells": [
  {
   "cell_type": "markdown",
   "metadata": {},
   "source": [
    "## This workbook describes the steps involved in collapsing the analysis by scaffold"
   ]
  },
  {
   "cell_type": "code",
   "execution_count": 1,
   "metadata": {},
   "outputs": [
    {
     "data": {
      "text/html": [
       "<style>\n",
       ".list-inline {list-style: none; margin:0; padding: 0}\n",
       ".list-inline>li {display: inline-block}\n",
       ".list-inline>li:not(:last-child)::after {content: \"\\00b7\"; padding: 0 .5ex}\n",
       "</style>\n",
       "<ol class=list-inline><li>4588</li><li>3</li></ol>\n"
      ],
      "text/latex": [
       "\\begin{enumerate*}\n",
       "\\item 4588\n",
       "\\item 3\n",
       "\\end{enumerate*}\n"
      ],
      "text/markdown": [
       "1. 4588\n",
       "2. 3\n",
       "\n",
       "\n"
      ],
      "text/plain": [
       "[1] 4588    3"
      ]
     },
     "metadata": {},
     "output_type": "display_data"
    },
    {
     "data": {
      "text/html": [
       "<style>\n",
       ".list-inline {list-style: none; margin:0; padding: 0}\n",
       ".list-inline>li {display: inline-block}\n",
       ".list-inline>li:not(:last-child)::after {content: \"\\00b7\"; padding: 0 .5ex}\n",
       "</style>\n",
       "<ol class=list-inline><li>4662</li><li>159</li></ol>\n"
      ],
      "text/latex": [
       "\\begin{enumerate*}\n",
       "\\item 4662\n",
       "\\item 159\n",
       "\\end{enumerate*}\n"
      ],
      "text/markdown": [
       "1. 4662\n",
       "2. 159\n",
       "\n",
       "\n"
      ],
      "text/plain": [
       "[1] 4662  159"
      ]
     },
     "metadata": {},
     "output_type": "display_data"
    }
   ],
   "source": [
    "# Component_index.csv was taken from the spreadsheet that was downloaded from cytoscape based on GNPS network\n",
    "# The \"scaffold-ID\" is the \"component_index\" \n",
    "#i.e. each subnetwork is identified by the component index, and can therefore be used in this way\n",
    "# because the peak list is now transposed, the feature id can be matched to the component index\n",
    "id<-read.csv('component_index.csv')\n",
    "dim(id)\n",
    "t_norm<-read.csv('t_norm.csv')\n",
    "dim(t_norm)"
   ]
  },
  {
   "cell_type": "code",
   "execution_count": 2,
   "metadata": {},
   "outputs": [
    {
     "data": {
      "text/html": [
       "<style>\n",
       ".list-inline {list-style: none; margin:0; padding: 0}\n",
       ".list-inline>li {display: inline-block}\n",
       ".list-inline>li:not(:last-child)::after {content: \"\\00b7\"; padding: 0 .5ex}\n",
       "</style>\n",
       "<ol class=list-inline><li>4588</li><li>161</li></ol>\n"
      ],
      "text/latex": [
       "\\begin{enumerate*}\n",
       "\\item 4588\n",
       "\\item 161\n",
       "\\end{enumerate*}\n"
      ],
      "text/markdown": [
       "1. 4588\n",
       "2. 161\n",
       "\n",
       "\n"
      ],
      "text/plain": [
       "[1] 4588  161"
      ]
     },
     "metadata": {},
     "output_type": "display_data"
    }
   ],
   "source": [
    "full<-merge(id,t_norm,by=\"merge\")\n",
    "dim(full)"
   ]
  },
  {
   "cell_type": "code",
   "execution_count": 3,
   "metadata": {},
   "outputs": [
    {
     "data": {
      "text/html": [
       "74"
      ],
      "text/latex": [
       "74"
      ],
      "text/markdown": [
       "74"
      ],
      "text/plain": [
       "[1] 74"
      ]
     },
     "metadata": {},
     "output_type": "display_data"
    }
   ],
   "source": [
    "4662-4588"
   ]
  },
  {
   "cell_type": "code",
   "execution_count": 4,
   "metadata": {},
   "outputs": [],
   "source": [
    "write.table(full,'full_to_sum.csv',sep=\",\",row.names=F, col.names=T)"
   ]
  },
  {
   "cell_type": "code",
   "execution_count": 5,
   "metadata": {},
   "outputs": [],
   "source": [
    "library(plyr)"
   ]
  },
  {
   "cell_type": "code",
   "execution_count": 6,
   "metadata": {},
   "outputs": [
    {
     "data": {
      "text/html": [
       "<style>\n",
       ".list-inline {list-style: none; margin:0; padding: 0}\n",
       ".list-inline>li {display: inline-block}\n",
       ".list-inline>li:not(:last-child)::after {content: \"\\00b7\"; padding: 0 .5ex}\n",
       "</style>\n",
       "<ol class=list-inline><li>4588</li><li>161</li></ol>\n"
      ],
      "text/latex": [
       "\\begin{enumerate*}\n",
       "\\item 4588\n",
       "\\item 161\n",
       "\\end{enumerate*}\n"
      ],
      "text/markdown": [
       "1. 4588\n",
       "2. 161\n",
       "\n",
       "\n"
      ],
      "text/plain": [
       "[1] 4588  161"
      ]
     },
     "metadata": {},
     "output_type": "display_data"
    }
   ],
   "source": [
    "to_sum<-read.csv('full_to_sum.csv')\n",
    "dim(to_sum)"
   ]
  },
  {
   "cell_type": "code",
   "execution_count": 7,
   "metadata": {},
   "outputs": [
    {
     "data": {
      "text/html": [
       "<style>\n",
       ".list-inline {list-style: none; margin:0; padding: 0}\n",
       ".list-inline>li {display: inline-block}\n",
       ".list-inline>li:not(:last-child)::after {content: \"\\00b7\"; padding: 0 .5ex}\n",
       "</style>\n",
       "<ol class=list-inline><li>639</li><li>160</li></ol>\n"
      ],
      "text/latex": [
       "\\begin{enumerate*}\n",
       "\\item 639\n",
       "\\item 160\n",
       "\\end{enumerate*}\n"
      ],
      "text/markdown": [
       "1. 639\n",
       "2. 160\n",
       "\n",
       "\n"
      ],
      "text/plain": [
       "[1] 639 160"
      ]
     },
     "metadata": {},
     "output_type": "display_data"
    }
   ],
   "source": [
    "summed<-ddply(to_sum,'componentindex',numcolwise(sum))\n",
    "dim(summed)"
   ]
  },
  {
   "cell_type": "code",
   "execution_count": 8,
   "metadata": {},
   "outputs": [
    {
     "data": {
      "text/html": [
       "<table>\n",
       "<caption>A data.frame: 6 × 160</caption>\n",
       "<thead>\n",
       "\t<tr><th></th><th scope=col>componentindex</th><th scope=col>cluster.index</th><th scope=col>X136.D1a</th><th scope=col>X136.D1b</th><th scope=col>X144.A7a</th><th scope=col>X144.A7b</th><th scope=col>X149.D3a</th><th scope=col>X149.D3b</th><th scope=col>X157.A8a</th><th scope=col>X157.A8b</th><th scope=col>⋯</th><th scope=col>GL79.D7a</th><th scope=col>GL79.D7b</th><th scope=col>GL82.G1a</th><th scope=col>GL82.G1b</th><th scope=col>GL82.H5a</th><th scope=col>GL82.H5b</th><th scope=col>GL84.D3a</th><th scope=col>GL84.D3b</th><th scope=col>GL85.D2a</th><th scope=col>GL85.D2b</th></tr>\n",
       "\t<tr><th></th><th scope=col>&lt;int&gt;</th><th scope=col>&lt;int&gt;</th><th scope=col>&lt;dbl&gt;</th><th scope=col>&lt;dbl&gt;</th><th scope=col>&lt;dbl&gt;</th><th scope=col>&lt;dbl&gt;</th><th scope=col>&lt;dbl&gt;</th><th scope=col>&lt;dbl&gt;</th><th scope=col>&lt;dbl&gt;</th><th scope=col>&lt;dbl&gt;</th><th scope=col>⋯</th><th scope=col>&lt;dbl&gt;</th><th scope=col>&lt;dbl&gt;</th><th scope=col>&lt;dbl&gt;</th><th scope=col>&lt;dbl&gt;</th><th scope=col>&lt;dbl&gt;</th><th scope=col>&lt;dbl&gt;</th><th scope=col>&lt;dbl&gt;</th><th scope=col>&lt;dbl&gt;</th><th scope=col>&lt;dbl&gt;</th><th scope=col>&lt;dbl&gt;</th></tr>\n",
       "</thead>\n",
       "<tbody>\n",
       "\t<tr><th scope=row>1</th><td>-1</td><td>34549420</td><td>0.316815854</td><td>0.251318277</td><td>0.398452002</td><td>0.6934981</td><td>0.5586448</td><td>0.5171911</td><td>0.310974429</td><td>0.269987542</td><td>⋯</td><td>0.576478219</td><td>0.529735791</td><td>0.559663526</td><td>0.530399396</td><td>0.3826162</td><td>0.588058385</td><td>0.520992914</td><td>0.3972598</td><td>0.556836559</td><td>0.452370786</td></tr>\n",
       "\t<tr><th scope=row>2</th><td> 1</td><td>   26483</td><td>0.000000000</td><td>0.000000000</td><td>0.000000000</td><td>0.0000000</td><td>0.0000000</td><td>0.0000000</td><td>0.000000000</td><td>0.000000000</td><td>⋯</td><td>0.000000000</td><td>0.000000000</td><td>0.000000000</td><td>0.000000000</td><td>0.0000000</td><td>0.000000000</td><td>0.000000000</td><td>0.0000000</td><td>0.000000000</td><td>0.000000000</td></tr>\n",
       "\t<tr><th scope=row>3</th><td> 2</td><td>   28881</td><td>0.000000000</td><td>0.000000000</td><td>0.000000000</td><td>0.0000000</td><td>0.0000000</td><td>0.0000000</td><td>0.000000000</td><td>0.000000000</td><td>⋯</td><td>0.000000000</td><td>0.000000000</td><td>0.000000000</td><td>0.000000000</td><td>0.0000000</td><td>0.000000000</td><td>0.000000000</td><td>0.0000000</td><td>0.000000000</td><td>0.000000000</td></tr>\n",
       "\t<tr><th scope=row>4</th><td> 3</td><td>   36306</td><td>0.000000000</td><td>0.000000000</td><td>0.000000000</td><td>0.0000000</td><td>0.0000000</td><td>0.0000000</td><td>0.000000000</td><td>0.000000000</td><td>⋯</td><td>0.000000000</td><td>0.000000000</td><td>0.000000000</td><td>0.000000000</td><td>0.0000000</td><td>0.000000000</td><td>0.000000000</td><td>0.0000000</td><td>0.000000000</td><td>0.000000000</td></tr>\n",
       "\t<tr><th scope=row>5</th><td> 4</td><td>   39939</td><td>0.000000000</td><td>0.000000000</td><td>0.000000000</td><td>0.0000000</td><td>0.0000000</td><td>0.0000000</td><td>0.000000000</td><td>0.000000000</td><td>⋯</td><td>0.000339966</td><td>0.000000000</td><td>0.000000000</td><td>0.000000000</td><td>0.0000000</td><td>0.000000000</td><td>0.000000000</td><td>0.0000000</td><td>0.000000000</td><td>0.000000000</td></tr>\n",
       "\t<tr><th scope=row>6</th><td> 5</td><td>   22359</td><td>0.001293152</td><td>0.000977864</td><td>0.001783415</td><td>0.0000000</td><td>0.0000000</td><td>0.0000000</td><td>0.001348969</td><td>0.002198618</td><td>⋯</td><td>0.000640269</td><td>0.000254725</td><td>0.004112195</td><td>0.006987095</td><td>0.0000000</td><td>0.004154295</td><td>0.000584019</td><td>0.0000000</td><td>0.007970875</td><td>0.007280846</td></tr>\n",
       "</tbody>\n",
       "</table>\n"
      ],
      "text/latex": [
       "A data.frame: 6 × 160\n",
       "\\begin{tabular}{r|lllllllllllllllllllll}\n",
       "  & componentindex & cluster.index & X136.D1a & X136.D1b & X144.A7a & X144.A7b & X149.D3a & X149.D3b & X157.A8a & X157.A8b & ⋯ & GL79.D7a & GL79.D7b & GL82.G1a & GL82.G1b & GL82.H5a & GL82.H5b & GL84.D3a & GL84.D3b & GL85.D2a & GL85.D2b\\\\\n",
       "  & <int> & <int> & <dbl> & <dbl> & <dbl> & <dbl> & <dbl> & <dbl> & <dbl> & <dbl> & ⋯ & <dbl> & <dbl> & <dbl> & <dbl> & <dbl> & <dbl> & <dbl> & <dbl> & <dbl> & <dbl>\\\\\n",
       "\\hline\n",
       "\t1 & -1 & 34549420 & 0.316815854 & 0.251318277 & 0.398452002 & 0.6934981 & 0.5586448 & 0.5171911 & 0.310974429 & 0.269987542 & ⋯ & 0.576478219 & 0.529735791 & 0.559663526 & 0.530399396 & 0.3826162 & 0.588058385 & 0.520992914 & 0.3972598 & 0.556836559 & 0.452370786\\\\\n",
       "\t2 &  1 &    26483 & 0.000000000 & 0.000000000 & 0.000000000 & 0.0000000 & 0.0000000 & 0.0000000 & 0.000000000 & 0.000000000 & ⋯ & 0.000000000 & 0.000000000 & 0.000000000 & 0.000000000 & 0.0000000 & 0.000000000 & 0.000000000 & 0.0000000 & 0.000000000 & 0.000000000\\\\\n",
       "\t3 &  2 &    28881 & 0.000000000 & 0.000000000 & 0.000000000 & 0.0000000 & 0.0000000 & 0.0000000 & 0.000000000 & 0.000000000 & ⋯ & 0.000000000 & 0.000000000 & 0.000000000 & 0.000000000 & 0.0000000 & 0.000000000 & 0.000000000 & 0.0000000 & 0.000000000 & 0.000000000\\\\\n",
       "\t4 &  3 &    36306 & 0.000000000 & 0.000000000 & 0.000000000 & 0.0000000 & 0.0000000 & 0.0000000 & 0.000000000 & 0.000000000 & ⋯ & 0.000000000 & 0.000000000 & 0.000000000 & 0.000000000 & 0.0000000 & 0.000000000 & 0.000000000 & 0.0000000 & 0.000000000 & 0.000000000\\\\\n",
       "\t5 &  4 &    39939 & 0.000000000 & 0.000000000 & 0.000000000 & 0.0000000 & 0.0000000 & 0.0000000 & 0.000000000 & 0.000000000 & ⋯ & 0.000339966 & 0.000000000 & 0.000000000 & 0.000000000 & 0.0000000 & 0.000000000 & 0.000000000 & 0.0000000 & 0.000000000 & 0.000000000\\\\\n",
       "\t6 &  5 &    22359 & 0.001293152 & 0.000977864 & 0.001783415 & 0.0000000 & 0.0000000 & 0.0000000 & 0.001348969 & 0.002198618 & ⋯ & 0.000640269 & 0.000254725 & 0.004112195 & 0.006987095 & 0.0000000 & 0.004154295 & 0.000584019 & 0.0000000 & 0.007970875 & 0.007280846\\\\\n",
       "\\end{tabular}\n"
      ],
      "text/markdown": [
       "\n",
       "A data.frame: 6 × 160\n",
       "\n",
       "| <!--/--> | componentindex &lt;int&gt; | cluster.index &lt;int&gt; | X136.D1a &lt;dbl&gt; | X136.D1b &lt;dbl&gt; | X144.A7a &lt;dbl&gt; | X144.A7b &lt;dbl&gt; | X149.D3a &lt;dbl&gt; | X149.D3b &lt;dbl&gt; | X157.A8a &lt;dbl&gt; | X157.A8b &lt;dbl&gt; | ⋯ ⋯ | GL79.D7a &lt;dbl&gt; | GL79.D7b &lt;dbl&gt; | GL82.G1a &lt;dbl&gt; | GL82.G1b &lt;dbl&gt; | GL82.H5a &lt;dbl&gt; | GL82.H5b &lt;dbl&gt; | GL84.D3a &lt;dbl&gt; | GL84.D3b &lt;dbl&gt; | GL85.D2a &lt;dbl&gt; | GL85.D2b &lt;dbl&gt; |\n",
       "|---|---|---|---|---|---|---|---|---|---|---|---|---|---|---|---|---|---|---|---|---|---|\n",
       "| 1 | -1 | 34549420 | 0.316815854 | 0.251318277 | 0.398452002 | 0.6934981 | 0.5586448 | 0.5171911 | 0.310974429 | 0.269987542 | ⋯ | 0.576478219 | 0.529735791 | 0.559663526 | 0.530399396 | 0.3826162 | 0.588058385 | 0.520992914 | 0.3972598 | 0.556836559 | 0.452370786 |\n",
       "| 2 |  1 |    26483 | 0.000000000 | 0.000000000 | 0.000000000 | 0.0000000 | 0.0000000 | 0.0000000 | 0.000000000 | 0.000000000 | ⋯ | 0.000000000 | 0.000000000 | 0.000000000 | 0.000000000 | 0.0000000 | 0.000000000 | 0.000000000 | 0.0000000 | 0.000000000 | 0.000000000 |\n",
       "| 3 |  2 |    28881 | 0.000000000 | 0.000000000 | 0.000000000 | 0.0000000 | 0.0000000 | 0.0000000 | 0.000000000 | 0.000000000 | ⋯ | 0.000000000 | 0.000000000 | 0.000000000 | 0.000000000 | 0.0000000 | 0.000000000 | 0.000000000 | 0.0000000 | 0.000000000 | 0.000000000 |\n",
       "| 4 |  3 |    36306 | 0.000000000 | 0.000000000 | 0.000000000 | 0.0000000 | 0.0000000 | 0.0000000 | 0.000000000 | 0.000000000 | ⋯ | 0.000000000 | 0.000000000 | 0.000000000 | 0.000000000 | 0.0000000 | 0.000000000 | 0.000000000 | 0.0000000 | 0.000000000 | 0.000000000 |\n",
       "| 5 |  4 |    39939 | 0.000000000 | 0.000000000 | 0.000000000 | 0.0000000 | 0.0000000 | 0.0000000 | 0.000000000 | 0.000000000 | ⋯ | 0.000339966 | 0.000000000 | 0.000000000 | 0.000000000 | 0.0000000 | 0.000000000 | 0.000000000 | 0.0000000 | 0.000000000 | 0.000000000 |\n",
       "| 6 |  5 |    22359 | 0.001293152 | 0.000977864 | 0.001783415 | 0.0000000 | 0.0000000 | 0.0000000 | 0.001348969 | 0.002198618 | ⋯ | 0.000640269 | 0.000254725 | 0.004112195 | 0.006987095 | 0.0000000 | 0.004154295 | 0.000584019 | 0.0000000 | 0.007970875 | 0.007280846 |\n",
       "\n"
      ],
      "text/plain": [
       "  componentindex cluster.index X136.D1a    X136.D1b    X144.A7a    X144.A7b \n",
       "1 -1             34549420      0.316815854 0.251318277 0.398452002 0.6934981\n",
       "2  1                26483      0.000000000 0.000000000 0.000000000 0.0000000\n",
       "3  2                28881      0.000000000 0.000000000 0.000000000 0.0000000\n",
       "4  3                36306      0.000000000 0.000000000 0.000000000 0.0000000\n",
       "5  4                39939      0.000000000 0.000000000 0.000000000 0.0000000\n",
       "6  5                22359      0.001293152 0.000977864 0.001783415 0.0000000\n",
       "  X149.D3a  X149.D3b  X157.A8a    X157.A8b    ⋯ GL79.D7a    GL79.D7b   \n",
       "1 0.5586448 0.5171911 0.310974429 0.269987542 ⋯ 0.576478219 0.529735791\n",
       "2 0.0000000 0.0000000 0.000000000 0.000000000 ⋯ 0.000000000 0.000000000\n",
       "3 0.0000000 0.0000000 0.000000000 0.000000000 ⋯ 0.000000000 0.000000000\n",
       "4 0.0000000 0.0000000 0.000000000 0.000000000 ⋯ 0.000000000 0.000000000\n",
       "5 0.0000000 0.0000000 0.000000000 0.000000000 ⋯ 0.000339966 0.000000000\n",
       "6 0.0000000 0.0000000 0.001348969 0.002198618 ⋯ 0.000640269 0.000254725\n",
       "  GL82.G1a    GL82.G1b    GL82.H5a  GL82.H5b    GL84.D3a    GL84.D3b \n",
       "1 0.559663526 0.530399396 0.3826162 0.588058385 0.520992914 0.3972598\n",
       "2 0.000000000 0.000000000 0.0000000 0.000000000 0.000000000 0.0000000\n",
       "3 0.000000000 0.000000000 0.0000000 0.000000000 0.000000000 0.0000000\n",
       "4 0.000000000 0.000000000 0.0000000 0.000000000 0.000000000 0.0000000\n",
       "5 0.000000000 0.000000000 0.0000000 0.000000000 0.000000000 0.0000000\n",
       "6 0.004112195 0.006987095 0.0000000 0.004154295 0.000584019 0.0000000\n",
       "  GL85.D2a    GL85.D2b   \n",
       "1 0.556836559 0.452370786\n",
       "2 0.000000000 0.000000000\n",
       "3 0.000000000 0.000000000\n",
       "4 0.000000000 0.000000000\n",
       "5 0.000000000 0.000000000\n",
       "6 0.007970875 0.007280846"
      ]
     },
     "metadata": {},
     "output_type": "display_data"
    }
   ],
   "source": [
    "head(summed)"
   ]
  },
  {
   "cell_type": "code",
   "execution_count": 9,
   "metadata": {},
   "outputs": [
    {
     "data": {
      "text/html": [
       "<style>\n",
       ".list-inline {list-style: none; margin:0; padding: 0}\n",
       ".list-inline>li {display: inline-block}\n",
       ".list-inline>li:not(:last-child)::after {content: \"\\00b7\"; padding: 0 .5ex}\n",
       "</style>\n",
       "<ol class=list-inline><li>160</li><li>639</li></ol>\n"
      ],
      "text/latex": [
       "\\begin{enumerate*}\n",
       "\\item 160\n",
       "\\item 639\n",
       "\\end{enumerate*}\n"
      ],
      "text/markdown": [
       "1. 160\n",
       "2. 639\n",
       "\n",
       "\n"
      ],
      "text/plain": [
       "[1] 160 639"
      ]
     },
     "metadata": {},
     "output_type": "display_data"
    }
   ],
   "source": [
    "t_summed<-t(summed)\n",
    "dim(t_summed)"
   ]
  },
  {
   "cell_type": "code",
   "execution_count": 10,
   "metadata": {},
   "outputs": [],
   "source": [
    "write.table(t_summed,'summed_by_net.csv',sep=\",\",row.names=T,col.names=F)"
   ]
  },
  {
   "cell_type": "code",
   "execution_count": 12,
   "metadata": {},
   "outputs": [
    {
     "data": {
      "text/html": [
       "<style>\n",
       ".list-inline {list-style: none; margin:0; padding: 0}\n",
       ".list-inline>li {display: inline-block}\n",
       ".list-inline>li:not(:last-child)::after {content: \"\\00b7\"; padding: 0 .5ex}\n",
       "</style>\n",
       "<ol class=list-inline><li>164</li><li>10</li></ol>\n"
      ],
      "text/latex": [
       "\\begin{enumerate*}\n",
       "\\item 164\n",
       "\\item 10\n",
       "\\end{enumerate*}\n"
      ],
      "text/markdown": [
       "1. 164\n",
       "2. 10\n",
       "\n",
       "\n"
      ],
      "text/plain": [
       "[1] 164  10"
      ]
     },
     "metadata": {},
     "output_type": "display_data"
    }
   ],
   "source": [
    "meta<-read.csv('meta_to_merge.csv')\n",
    "dim(meta)"
   ]
  },
  {
   "cell_type": "code",
   "execution_count": 30,
   "metadata": {},
   "outputs": [],
   "source": [
    "## edit the exported file to remove the cluster.index row and rename 'componentindex' 'merge'\n",
    "# also delete the -1 column because that is meaningless as they are singletons\n",
    "\n"
   ]
  },
  {
   "cell_type": "code",
   "execution_count": 13,
   "metadata": {},
   "outputs": [
    {
     "data": {
      "text/html": [
       "<style>\n",
       ".list-inline {list-style: none; margin:0; padding: 0}\n",
       ".list-inline>li {display: inline-block}\n",
       ".list-inline>li:not(:last-child)::after {content: \"\\00b7\"; padding: 0 .5ex}\n",
       "</style>\n",
       "<ol class=list-inline><li>164</li><li>10</li></ol>\n"
      ],
      "text/latex": [
       "\\begin{enumerate*}\n",
       "\\item 164\n",
       "\\item 10\n",
       "\\end{enumerate*}\n"
      ],
      "text/markdown": [
       "1. 164\n",
       "2. 10\n",
       "\n",
       "\n"
      ],
      "text/plain": [
       "[1] 164  10"
      ]
     },
     "metadata": {},
     "output_type": "display_data"
    },
    {
     "data": {
      "text/html": [
       "<style>\n",
       ".list-inline {list-style: none; margin:0; padding: 0}\n",
       ".list-inline>li {display: inline-block}\n",
       ".list-inline>li:not(:last-child)::after {content: \"\\00b7\"; padding: 0 .5ex}\n",
       "</style>\n",
       "<ol class=list-inline><li>158</li><li>639</li></ol>\n"
      ],
      "text/latex": [
       "\\begin{enumerate*}\n",
       "\\item 158\n",
       "\\item 639\n",
       "\\end{enumerate*}\n"
      ],
      "text/markdown": [
       "1. 158\n",
       "2. 639\n",
       "\n",
       "\n"
      ],
      "text/plain": [
       "[1] 158 639"
      ]
     },
     "metadata": {},
     "output_type": "display_data"
    }
   ],
   "source": [
    "meta<-read.csv('meta_to_merge.csv')\n",
    "dim(meta)\n",
    "summed<-read.csv('summed_by_net.csv')\n",
    "dim(summed)"
   ]
  },
  {
   "cell_type": "code",
   "execution_count": 14,
   "metadata": {},
   "outputs": [
    {
     "data": {
      "text/html": [
       "<style>\n",
       ".list-inline {list-style: none; margin:0; padding: 0}\n",
       ".list-inline>li {display: inline-block}\n",
       ".list-inline>li:not(:last-child)::after {content: \"\\00b7\"; padding: 0 .5ex}\n",
       "</style>\n",
       "<ol class=list-inline><li>158</li><li>648</li></ol>\n"
      ],
      "text/latex": [
       "\\begin{enumerate*}\n",
       "\\item 158\n",
       "\\item 648\n",
       "\\end{enumerate*}\n"
      ],
      "text/markdown": [
       "1. 158\n",
       "2. 648\n",
       "\n",
       "\n"
      ],
      "text/plain": [
       "[1] 158 648"
      ]
     },
     "metadata": {},
     "output_type": "display_data"
    }
   ],
   "source": [
    "w_meta<-merge(meta,summed,by=\"merge\")\n",
    "dim(w_meta)"
   ]
  },
  {
   "cell_type": "code",
   "execution_count": 15,
   "metadata": {},
   "outputs": [
    {
     "data": {
      "text/html": [
       "<table>\n",
       "<caption>A data.frame: 6 × 648</caption>\n",
       "<thead>\n",
       "\t<tr><th></th><th scope=col>merge</th><th scope=col>ID</th><th scope=col>rep</th><th scope=col>merge.5</th><th scope=col>species</th><th scope=col>cryo</th><th scope=col>GL_CSSC</th><th scope=col>zip.code.GPS</th><th scope=col>state</th><th scope=col>SPECIES_SOURCE</th><th scope=col>⋯</th><th scope=col>X2422</th><th scope=col>X2423</th><th scope=col>X2445</th><th scope=col>X2447</th><th scope=col>X2450</th><th scope=col>X2467</th><th scope=col>X2485</th><th scope=col>X2519</th><th scope=col>X2638</th><th scope=col>X2667</th></tr>\n",
       "\t<tr><th></th><th scope=col>&lt;chr&gt;</th><th scope=col>&lt;chr&gt;</th><th scope=col>&lt;chr&gt;</th><th scope=col>&lt;chr&gt;</th><th scope=col>&lt;chr&gt;</th><th scope=col>&lt;chr&gt;</th><th scope=col>&lt;chr&gt;</th><th scope=col>&lt;chr&gt;</th><th scope=col>&lt;chr&gt;</th><th scope=col>&lt;chr&gt;</th><th scope=col>⋯</th><th scope=col>&lt;dbl&gt;</th><th scope=col>&lt;dbl&gt;</th><th scope=col>&lt;dbl&gt;</th><th scope=col>&lt;dbl&gt;</th><th scope=col>&lt;dbl&gt;</th><th scope=col>&lt;dbl&gt;</th><th scope=col>&lt;dbl&gt;</th><th scope=col>&lt;dbl&gt;</th><th scope=col>&lt;dbl&gt;</th><th scope=col>&lt;dbl&gt;</th></tr>\n",
       "</thead>\n",
       "<tbody>\n",
       "\t<tr><th scope=row>1</th><td>GL101.F4a</td><td>FYRE1_F-6_B-A4_GL101-F4.mzXML Peak area </td><td>a</td><td>GL101-F4a</td><td>expansum</td><td>GL101-F4</td><td>GL</td><td>lake michigan</td><td>lakes</td><td>expansum-GL</td><td>⋯</td><td>0</td><td>0.03112461</td><td>0.000000000</td><td>0.000000000</td><td>0.000000000</td><td>0</td><td>0.000000000</td><td>0.02658900</td><td>0</td><td>0.002931120</td></tr>\n",
       "\t<tr><th scope=row>2</th><td>GL101.F4b</td><td>FYRE2_A-2_B-E4_GL101-F4.mzXML Peak area </td><td>b</td><td>GL101-F4b</td><td>expansum</td><td>GL101-F4</td><td>GL</td><td>lake michigan</td><td>lakes</td><td>expansum-GL</td><td>⋯</td><td>0</td><td>0.02817271</td><td>0.000000000</td><td>0.000711709</td><td>0.000176914</td><td>0</td><td>0.000000000</td><td>0.00000000</td><td>0</td><td>0.004723269</td></tr>\n",
       "\t<tr><th scope=row>3</th><td>GL102.D8a</td><td>FYRE1_F-7_B-A5_GL102-D8.mzXML Peak area </td><td>a</td><td>GL102-D8a</td><td>expansum</td><td>GL102-D8</td><td>GL</td><td>lake michigan</td><td>lakes</td><td>expansum-GL</td><td>⋯</td><td>0</td><td>0.00000000</td><td>0.000000000</td><td>0.000000000</td><td>0.000000000</td><td>0</td><td>0.000000000</td><td>0.01418083</td><td>0</td><td>0.000000000</td></tr>\n",
       "\t<tr><th scope=row>4</th><td>GL102.D8b</td><td>FYRE2_A-3_B-E5_GL102-D8.mzXML Peak area </td><td>b</td><td>GL102-D8b</td><td>expansum</td><td>GL102-D8</td><td>GL</td><td>lake michigan</td><td>lakes</td><td>expansum-GL</td><td>⋯</td><td>0</td><td>0.02742819</td><td>0.000000000</td><td>0.000000000</td><td>0.000000000</td><td>0</td><td>0.000000000</td><td>0.01152456</td><td>0</td><td>0.001856341</td></tr>\n",
       "\t<tr><th scope=row>5</th><td>GL104.A6a</td><td>FYRE2_C-10_N-A2_GL104-A6.mzXML Peak area</td><td>a</td><td>GL104-A6a</td><td>oxalicum</td><td>GL104-A6</td><td>GL</td><td>lake michigan</td><td>lakes</td><td>oxalicum-GL</td><td>⋯</td><td>0</td><td>0.00000000</td><td>0.000767102</td><td>0.000000000</td><td>0.000000000</td><td>0</td><td>0.003530705</td><td>0.00000000</td><td>0</td><td>0.000000000</td></tr>\n",
       "\t<tr><th scope=row>6</th><td>GL104.A6b</td><td>FYRE2_F-4_N-E2_GL104-A6.mzXML Peak area </td><td>b</td><td>GL104-A6b</td><td>oxalicum</td><td>GL104-A6</td><td>GL</td><td>lake michigan</td><td>lakes</td><td>oxalicum-GL</td><td>⋯</td><td>0</td><td>0.00000000</td><td>0.000000000</td><td>0.000000000</td><td>0.000000000</td><td>0</td><td>0.000000000</td><td>0.00000000</td><td>0</td><td>0.000000000</td></tr>\n",
       "</tbody>\n",
       "</table>\n"
      ],
      "text/latex": [
       "A data.frame: 6 × 648\n",
       "\\begin{tabular}{r|lllllllllllllllllllll}\n",
       "  & merge & ID & rep & merge.5 & species & cryo & GL\\_CSSC & zip.code.GPS & state & SPECIES\\_SOURCE & ⋯ & X2422 & X2423 & X2445 & X2447 & X2450 & X2467 & X2485 & X2519 & X2638 & X2667\\\\\n",
       "  & <chr> & <chr> & <chr> & <chr> & <chr> & <chr> & <chr> & <chr> & <chr> & <chr> & ⋯ & <dbl> & <dbl> & <dbl> & <dbl> & <dbl> & <dbl> & <dbl> & <dbl> & <dbl> & <dbl>\\\\\n",
       "\\hline\n",
       "\t1 & GL101.F4a & FYRE1\\_F-6\\_B-A4\\_GL101-F4.mzXML Peak area  & a & GL101-F4a & expansum & GL101-F4 & GL & lake michigan & lakes & expansum-GL & ⋯ & 0 & 0.03112461 & 0.000000000 & 0.000000000 & 0.000000000 & 0 & 0.000000000 & 0.02658900 & 0 & 0.002931120\\\\\n",
       "\t2 & GL101.F4b & FYRE2\\_A-2\\_B-E4\\_GL101-F4.mzXML Peak area  & b & GL101-F4b & expansum & GL101-F4 & GL & lake michigan & lakes & expansum-GL & ⋯ & 0 & 0.02817271 & 0.000000000 & 0.000711709 & 0.000176914 & 0 & 0.000000000 & 0.00000000 & 0 & 0.004723269\\\\\n",
       "\t3 & GL102.D8a & FYRE1\\_F-7\\_B-A5\\_GL102-D8.mzXML Peak area  & a & GL102-D8a & expansum & GL102-D8 & GL & lake michigan & lakes & expansum-GL & ⋯ & 0 & 0.00000000 & 0.000000000 & 0.000000000 & 0.000000000 & 0 & 0.000000000 & 0.01418083 & 0 & 0.000000000\\\\\n",
       "\t4 & GL102.D8b & FYRE2\\_A-3\\_B-E5\\_GL102-D8.mzXML Peak area  & b & GL102-D8b & expansum & GL102-D8 & GL & lake michigan & lakes & expansum-GL & ⋯ & 0 & 0.02742819 & 0.000000000 & 0.000000000 & 0.000000000 & 0 & 0.000000000 & 0.01152456 & 0 & 0.001856341\\\\\n",
       "\t5 & GL104.A6a & FYRE2\\_C-10\\_N-A2\\_GL104-A6.mzXML Peak area & a & GL104-A6a & oxalicum & GL104-A6 & GL & lake michigan & lakes & oxalicum-GL & ⋯ & 0 & 0.00000000 & 0.000767102 & 0.000000000 & 0.000000000 & 0 & 0.003530705 & 0.00000000 & 0 & 0.000000000\\\\\n",
       "\t6 & GL104.A6b & FYRE2\\_F-4\\_N-E2\\_GL104-A6.mzXML Peak area  & b & GL104-A6b & oxalicum & GL104-A6 & GL & lake michigan & lakes & oxalicum-GL & ⋯ & 0 & 0.00000000 & 0.000000000 & 0.000000000 & 0.000000000 & 0 & 0.000000000 & 0.00000000 & 0 & 0.000000000\\\\\n",
       "\\end{tabular}\n"
      ],
      "text/markdown": [
       "\n",
       "A data.frame: 6 × 648\n",
       "\n",
       "| <!--/--> | merge &lt;chr&gt; | ID &lt;chr&gt; | rep &lt;chr&gt; | merge.5 &lt;chr&gt; | species &lt;chr&gt; | cryo &lt;chr&gt; | GL_CSSC &lt;chr&gt; | zip.code.GPS &lt;chr&gt; | state &lt;chr&gt; | SPECIES_SOURCE &lt;chr&gt; | ⋯ ⋯ | X2422 &lt;dbl&gt; | X2423 &lt;dbl&gt; | X2445 &lt;dbl&gt; | X2447 &lt;dbl&gt; | X2450 &lt;dbl&gt; | X2467 &lt;dbl&gt; | X2485 &lt;dbl&gt; | X2519 &lt;dbl&gt; | X2638 &lt;dbl&gt; | X2667 &lt;dbl&gt; |\n",
       "|---|---|---|---|---|---|---|---|---|---|---|---|---|---|---|---|---|---|---|---|---|---|\n",
       "| 1 | GL101.F4a | FYRE1_F-6_B-A4_GL101-F4.mzXML Peak area  | a | GL101-F4a | expansum | GL101-F4 | GL | lake michigan | lakes | expansum-GL | ⋯ | 0 | 0.03112461 | 0.000000000 | 0.000000000 | 0.000000000 | 0 | 0.000000000 | 0.02658900 | 0 | 0.002931120 |\n",
       "| 2 | GL101.F4b | FYRE2_A-2_B-E4_GL101-F4.mzXML Peak area  | b | GL101-F4b | expansum | GL101-F4 | GL | lake michigan | lakes | expansum-GL | ⋯ | 0 | 0.02817271 | 0.000000000 | 0.000711709 | 0.000176914 | 0 | 0.000000000 | 0.00000000 | 0 | 0.004723269 |\n",
       "| 3 | GL102.D8a | FYRE1_F-7_B-A5_GL102-D8.mzXML Peak area  | a | GL102-D8a | expansum | GL102-D8 | GL | lake michigan | lakes | expansum-GL | ⋯ | 0 | 0.00000000 | 0.000000000 | 0.000000000 | 0.000000000 | 0 | 0.000000000 | 0.01418083 | 0 | 0.000000000 |\n",
       "| 4 | GL102.D8b | FYRE2_A-3_B-E5_GL102-D8.mzXML Peak area  | b | GL102-D8b | expansum | GL102-D8 | GL | lake michigan | lakes | expansum-GL | ⋯ | 0 | 0.02742819 | 0.000000000 | 0.000000000 | 0.000000000 | 0 | 0.000000000 | 0.01152456 | 0 | 0.001856341 |\n",
       "| 5 | GL104.A6a | FYRE2_C-10_N-A2_GL104-A6.mzXML Peak area | a | GL104-A6a | oxalicum | GL104-A6 | GL | lake michigan | lakes | oxalicum-GL | ⋯ | 0 | 0.00000000 | 0.000767102 | 0.000000000 | 0.000000000 | 0 | 0.003530705 | 0.00000000 | 0 | 0.000000000 |\n",
       "| 6 | GL104.A6b | FYRE2_F-4_N-E2_GL104-A6.mzXML Peak area  | b | GL104-A6b | oxalicum | GL104-A6 | GL | lake michigan | lakes | oxalicum-GL | ⋯ | 0 | 0.00000000 | 0.000000000 | 0.000000000 | 0.000000000 | 0 | 0.000000000 | 0.00000000 | 0 | 0.000000000 |\n",
       "\n"
      ],
      "text/plain": [
       "  merge     ID                                       rep merge.5   species \n",
       "1 GL101.F4a FYRE1_F-6_B-A4_GL101-F4.mzXML Peak area  a   GL101-F4a expansum\n",
       "2 GL101.F4b FYRE2_A-2_B-E4_GL101-F4.mzXML Peak area  b   GL101-F4b expansum\n",
       "3 GL102.D8a FYRE1_F-7_B-A5_GL102-D8.mzXML Peak area  a   GL102-D8a expansum\n",
       "4 GL102.D8b FYRE2_A-3_B-E5_GL102-D8.mzXML Peak area  b   GL102-D8b expansum\n",
       "5 GL104.A6a FYRE2_C-10_N-A2_GL104-A6.mzXML Peak area a   GL104-A6a oxalicum\n",
       "6 GL104.A6b FYRE2_F-4_N-E2_GL104-A6.mzXML Peak area  b   GL104-A6b oxalicum\n",
       "  cryo     GL_CSSC zip.code.GPS  state SPECIES_SOURCE ⋯ X2422 X2423     \n",
       "1 GL101-F4 GL      lake michigan lakes expansum-GL    ⋯ 0     0.03112461\n",
       "2 GL101-F4 GL      lake michigan lakes expansum-GL    ⋯ 0     0.02817271\n",
       "3 GL102-D8 GL      lake michigan lakes expansum-GL    ⋯ 0     0.00000000\n",
       "4 GL102-D8 GL      lake michigan lakes expansum-GL    ⋯ 0     0.02742819\n",
       "5 GL104-A6 GL      lake michigan lakes oxalicum-GL    ⋯ 0     0.00000000\n",
       "6 GL104-A6 GL      lake michigan lakes oxalicum-GL    ⋯ 0     0.00000000\n",
       "  X2445       X2447       X2450       X2467 X2485       X2519      X2638\n",
       "1 0.000000000 0.000000000 0.000000000 0     0.000000000 0.02658900 0    \n",
       "2 0.000000000 0.000711709 0.000176914 0     0.000000000 0.00000000 0    \n",
       "3 0.000000000 0.000000000 0.000000000 0     0.000000000 0.01418083 0    \n",
       "4 0.000000000 0.000000000 0.000000000 0     0.000000000 0.01152456 0    \n",
       "5 0.000767102 0.000000000 0.000000000 0     0.003530705 0.00000000 0    \n",
       "6 0.000000000 0.000000000 0.000000000 0     0.000000000 0.00000000 0    \n",
       "  X2667      \n",
       "1 0.002931120\n",
       "2 0.004723269\n",
       "3 0.000000000\n",
       "4 0.001856341\n",
       "5 0.000000000\n",
       "6 0.000000000"
      ]
     },
     "metadata": {},
     "output_type": "display_data"
    }
   ],
   "source": [
    "head(w_meta)"
   ]
  },
  {
   "cell_type": "code",
   "execution_count": 16,
   "metadata": {},
   "outputs": [],
   "source": [
    "write.table(w_meta,'summed_w_meta.csv',sep=\",\",row.names=F,col.names=T)"
   ]
  },
  {
   "cell_type": "markdown",
   "metadata": {},
   "source": [
    "### This spreadsheet was then converted to presence/absence and used to generate FAC"
   ]
  },
  {
   "cell_type": "code",
   "execution_count": null,
   "metadata": {},
   "outputs": [],
   "source": []
  }
 ],
 "metadata": {
  "kernelspec": {
   "display_name": "R",
   "language": "R",
   "name": "ir"
  },
  "language_info": {
   "codemirror_mode": "r",
   "file_extension": ".r",
   "mimetype": "text/x-r-source",
   "name": "R",
   "pygments_lexer": "r",
   "version": "4.0.2"
  }
 },
 "nbformat": 4,
 "nbformat_minor": 4
}
