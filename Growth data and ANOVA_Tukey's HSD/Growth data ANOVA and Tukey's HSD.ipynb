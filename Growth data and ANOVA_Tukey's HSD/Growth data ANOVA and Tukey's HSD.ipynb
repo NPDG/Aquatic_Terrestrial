{
 "cells": [
  {
   "cell_type": "code",
   "execution_count": 1,
   "metadata": {},
   "outputs": [],
   "source": [
    "library(multcompView)"
   ]
  },
  {
   "cell_type": "code",
   "execution_count": 2,
   "metadata": {},
   "outputs": [],
   "source": [
    "Data <- read.csv(file=\"/mnt/c/Users/nawendt/Desktop/GL data/test4.csv\", header=TRUE)"
   ]
  },
  {
   "cell_type": "code",
   "execution_count": 3,
   "metadata": {},
   "outputs": [],
   "source": [
    "Data2 <- subset(Data, Day>28,\n",
    "select=c(Day, Growth, Combined)) "
   ]
  },
  {
   "cell_type": "code",
   "execution_count": 4,
   "metadata": {},
   "outputs": [],
   "source": [
    "model=lm(Data2$Growth ~ Data2$Combined)\n",
    "ANOVA=aov(model)"
   ]
  },
  {
   "cell_type": "code",
   "execution_count": 5,
   "metadata": {},
   "outputs": [
    {
     "data": {
      "text/plain": [
       "                Df Sum Sq Mean Sq F value Pr(>F)    \n",
       "Data2$Combined   5 102224   20445   294.1 <2e-16 ***\n",
       "Residuals      317  22038      70                   \n",
       "---\n",
       "Signif. codes:  0 ‘***’ 0.001 ‘**’ 0.01 ‘*’ 0.05 ‘.’ 0.1 ‘ ’ 1\n",
       "1 observation deleted due to missingness"
      ]
     },
     "metadata": {},
     "output_type": "display_data"
    }
   ],
   "source": [
    "summary(ANOVA)"
   ]
  },
  {
   "cell_type": "code",
   "execution_count": 6,
   "metadata": {},
   "outputs": [],
   "source": [
    "TUKEY <- TukeyHSD(x=ANOVA, 'Data2$Combined', conf.level=0.95)"
   ]
  },
  {
   "cell_type": "code",
   "execution_count": 7,
   "metadata": {},
   "outputs": [
    {
     "data": {
      "text/plain": [
       "  Tukey multiple comparisons of means\n",
       "    95% family-wise confidence level\n",
       "\n",
       "Fit: aov(formula = model)\n",
       "\n",
       "$`Data2$Combined`\n",
       "                                        diff        lwr         upr     p adj\n",
       "CSexpansum-CSbrevicompactum        44.735431  39.770953  49.6999097 0.0000000\n",
       "CSoxalicum-CSbrevicompactum        14.030303   8.469143  19.5914635 0.0000000\n",
       "GLbrevicompactum-CSbrevicompactum   9.785859   4.306869  15.2648483 0.0000078\n",
       "GLexpansum-CSbrevicompactum        45.897773  40.977951  50.8175949 0.0000000\n",
       "GLoxalicum-CSbrevicompactum        17.316017  11.754857  22.8771778 0.0000000\n",
       "CSoxalicum-CSexpansum             -30.705128 -35.280592 -26.1296648 0.0000000\n",
       "GLbrevicompactum-CSexpansum       -34.949573 -39.424803 -30.4743421 0.0000000\n",
       "GLexpansum-CSexpansum               1.162342  -2.607673   4.9323560 0.9501567\n",
       "GLoxalicum-CSexpansum             -27.419414 -31.994877 -22.8439505 0.0000000\n",
       "GLbrevicompactum-CSoxalicum        -4.244444  -9.373591   0.8847024 0.1690739\n",
       "GLexpansum-CSoxalicum              31.867470  27.340499  36.3944410 0.0000000\n",
       "GLoxalicum-CSoxalicum               3.285714  -1.931117   8.5025453 0.4634175\n",
       "GLexpansum-GLbrevicompactum        36.111914  31.686274  40.5375544 0.0000000\n",
       "GLoxalicum-GLbrevicompactum         7.530159   2.401012  12.6593056 0.0004752\n",
       "GLoxalicum-GLexpansum             -28.581756 -33.108727 -24.0547844 0.0000000\n"
      ]
     },
     "metadata": {},
     "output_type": "display_data"
    }
   ],
   "source": [
    "TUKEY"
   ]
  },
  {
   "cell_type": "code",
   "execution_count": 8,
   "metadata": {},
   "outputs": [],
   "source": [
    "Data3 <- read.csv(file=\"/mnt/c/Users/nawendt/Desktop/GL data/test5_no105.csv\", header=TRUE)"
   ]
  },
  {
   "cell_type": "code",
   "execution_count": 9,
   "metadata": {},
   "outputs": [],
   "source": [
    "Data4 <- subset(Data3, Day>42,\n",
    "select=c(Day, Growth, Combined)) "
   ]
  },
  {
   "cell_type": "code",
   "execution_count": 10,
   "metadata": {},
   "outputs": [],
   "source": [
    "model2=lm(Data4$Growth ~ Data4$Combined)\n",
    "ANOVA3=aov(model2)"
   ]
  },
  {
   "cell_type": "code",
   "execution_count": 11,
   "metadata": {},
   "outputs": [
    {
     "data": {
      "text/plain": [
       "                Df Sum Sq Mean Sq F value Pr(>F)    \n",
       "Data4$Combined   5  25605    5121   846.8 <2e-16 ***\n",
       "Residuals      237   1433       6                   \n",
       "---\n",
       "Signif. codes:  0 ‘***’ 0.001 ‘**’ 0.01 ‘*’ 0.05 ‘.’ 0.1 ‘ ’ 1"
      ]
     },
     "metadata": {},
     "output_type": "display_data"
    }
   ],
   "source": [
    "summary(ANOVA3)"
   ]
  },
  {
   "cell_type": "code",
   "execution_count": 12,
   "metadata": {},
   "outputs": [],
   "source": [
    "TUKEY <- TukeyHSD(x=ANOVA3, 'Data4$Combined', conf.level=0.95)"
   ]
  },
  {
   "cell_type": "code",
   "execution_count": 13,
   "metadata": {},
   "outputs": [
    {
     "data": {
      "text/plain": [
       "  Tukey multiple comparisons of means\n",
       "    95% family-wise confidence level\n",
       "\n",
       "Fit: aov(formula = model2)\n",
       "\n",
       "$`Data4$Combined`\n",
       "                                           diff        lwr        upr     p adj\n",
       "CSexpansum-CSbrevicompactum        1.819444e+01  16.529106  19.859782 0.0000000\n",
       "CSoxalicum-CSbrevicompactum       -2.833333e+00  -4.438093  -1.228573 0.0000117\n",
       "GLbrevicompactum-CSbrevicompactum  3.000000e-01  -1.279878   1.879878 0.9941812\n",
       "GLexpansum-CSbrevicompactum        2.216667e+01  20.561907  23.771427 0.0000000\n",
       "GLoxalicum-CSbrevicompactum       -2.833333e+00  -4.438093  -1.228573 0.0000117\n",
       "CSoxalicum-CSexpansum             -2.102778e+01 -22.632538 -19.423018 0.0000000\n",
       "GLbrevicompactum-CSexpansum       -1.789444e+01 -19.474323 -16.314566 0.0000000\n",
       "GLexpansum-CSexpansum              3.972222e+00   2.367462   5.576982 0.0000000\n",
       "GLoxalicum-CSexpansum             -2.102778e+01 -22.632538 -19.423018 0.0000000\n",
       "GLbrevicompactum-CSoxalicum        3.133333e+00   1.617444   4.649222 0.0000002\n",
       "GLexpansum-CSoxalicum              2.500000e+01  23.458197  26.541803 0.0000000\n",
       "GLoxalicum-CSoxalicum              4.779246e-15  -1.541803   1.541803 1.0000000\n",
       "GLexpansum-GLbrevicompactum        2.186667e+01  20.350778  23.382556 0.0000000\n",
       "GLoxalicum-GLbrevicompactum       -3.133333e+00  -4.649222  -1.617444 0.0000002\n",
       "GLoxalicum-GLexpansum             -2.500000e+01 -26.541803 -23.458197 0.0000000\n"
      ]
     },
     "metadata": {},
     "output_type": "display_data"
    }
   ],
   "source": [
    "TUKEY"
   ]
  },
  {
   "cell_type": "code",
   "execution_count": null,
   "metadata": {},
   "outputs": [],
   "source": []
  }
 ],
 "metadata": {
  "kernelspec": {
   "display_name": "R",
   "language": "R",
   "name": "ir"
  },
  "language_info": {
   "codemirror_mode": "r",
   "file_extension": ".r",
   "mimetype": "text/x-r-source",
   "name": "R",
   "pygments_lexer": "r",
   "version": "3.6.3"
  }
 },
 "nbformat": 4,
 "nbformat_minor": 4
}
